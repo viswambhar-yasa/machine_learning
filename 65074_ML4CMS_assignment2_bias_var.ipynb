{
 "cells": [
  {
   "cell_type": "markdown",
   "metadata": {},
   "source": [
    "## Machine Learning Homework-3\n",
    "### Viswambhar Yasa 65074"
   ]
  },
  {
   "cell_type": "code",
   "execution_count": 25,
   "metadata": {},
   "outputs": [],
   "source": [
    "import numpy as np\n",
    "import matplotlib.pyplot as plt"
   ]
  },
  {
   "cell_type": "code",
   "execution_count": 26,
   "metadata": {},
   "outputs": [],
   "source": [
    "def true_function(X):\n",
    "    Y=-1+(0.5)*X+(0.3)*(X*X)\n",
    "    return Y\n",
    "\n",
    "def MAE(Y,YC):\n",
    "    if (np.size(Y)==np.size(YC)):\n",
    "        N=np.size(Y)\n",
    "        T=abs(Y-YC)\n",
    "        b=np.sum(T)\n",
    "        MAE=(1/N)*b;\n",
    "    else:\n",
    "        raise ValueError('Y and YC should be of same size')\n",
    "    return MAE,T\n",
    "\n",
    "def MSE(Y,YC):\n",
    "    if (np.size(Y)==np.size(YC)):\n",
    "        N=np.size(Y)\n",
    "        T=(Y-YC)**2\n",
    "        b=np.sum(T)\n",
    "        MSE=(1/N)*b;\n",
    "    else:\n",
    "        raise ValueError('Y and YC should be of same size')\n",
    "    return MSE,T\n",
    "\n",
    "def RMSE(Y,YC):\n",
    "    if (np.size(Y)==np.size(YC)):\n",
    "        N=np.size(Y)\n",
    "        T=(Y-YC)**2\n",
    "        b=np.sum(T)\n",
    "        MSE=np.sqrt((1/N)*b);\n",
    "    else:\n",
    "        raise ValueError('Y and YC should be of same size')\n",
    "    return MSE,T\n",
    "\n",
    "def Variance(Y):\n",
    "    N=np.size(Y)\n",
    "    Mean=np.mean(Y)\n",
    "    SS=np.sum((Y-Mean)**2)\n",
    "    Var=(1/N)*SS\n",
    "    return Var"
   ]
  },
  {
   "cell_type": "code",
   "execution_count": 27,
   "metadata": {},
   "outputs": [
    {
     "name": "stdout",
     "output_type": "stream",
     "text": [
      "Y values measured by true function- y_true:  [-1.2079373 -1.1626253 -1.0611933 -0.9057277 -0.6955972 -0.4524452\n",
      " -0.2691712  0.1531627  0.4264003  1.1308043  1.3800448  2.00608\n",
      "  2.4192208]\n"
     ]
    }
   ],
   "source": [
    "x= np.array([-0.797, -0.443, -0.133, 0.171, 0.474, 0.754, 0.936, 1.297, 1.501, 1.959, 2.104, 2.440, 2.644])\n",
    "y_measured = np.array([-2.538, -2.006, -1.900, -0.297, -2.075, 0.837, 0.601, 0.763, 0.462, 0.626, 2.417, 2.988, 2.601])\n",
    "y_true=true_function(x)\n",
    "print(\"Y values measured by true function- y_true: \",y_true)"
   ]
  },
  {
   "cell_type": "markdown",
   "metadata": {},
   "source": [
    "### Task-1 Plotting Measured Vs True Values"
   ]
  },
  {
   "cell_type": "code",
   "execution_count": 28,
   "metadata": {},
   "outputs": [
    {
     "data": {
      "image/png": "[encoded data removed]",
      "text/plain": [
       "<Figure size 648x648 with 1 Axes>"
      ]
     },
     "metadata": {
      "needs_background": "light"
     },
     "output_type": "display_data"
    }
   ],
   "source": [
    "fig,ax =plt.subplots(figsize=(9,9))\n",
    "ax.plot(x,y_true,label=\"true values\",color='#4b0082', linewidth=4,\n",
    "         marker='h', markerfacecolor='lightgreen', markeredgewidth=2,\n",
    "         markersize=12)\n",
    "ax.plot(x,y_measured,'bs',label=\"measured values\")\n",
    "plt.xlabel('X')\n",
    "plt.ylabel('Y')\n",
    "plt.legend()\n",
    "plt.title(\"Measured data VS true function\")\n",
    "plt.grid()"
   ]
  },
  {
   "cell_type": "markdown",
   "metadata": {},
   "source": [
    "### Task-2 Computing MAE, MSE, RMSE  "
   ]
  },
  {
   "cell_type": "code",
   "execution_count": 29,
   "metadata": {},
   "outputs": [
    {
     "name": "stdout",
     "output_type": "stream",
     "text": [
      "The residual error measured using Mean Absolute Error(MAE)\n",
      "MAE= 0.8085297461538462\n",
      "The residual error measured using Mean Squared Error(MSE)\n",
      "MSE= 0.8136611993979562\n",
      "The residual error measured using Root Mean Squared Error(RMSE)\n",
      "RMSE= 0.9020317064260858\n"
     ]
    }
   ],
   "source": [
    "MAE,Residual1=MAE(y_true,y_measured)\n",
    "print(\"The residual error measured using Mean Absolute Error(MAE)\")\n",
    "print(\"MAE=\",MAE)\n",
    "MSE,Residual2=MSE(y_true,y_measured)\n",
    "print(\"The residual error measured using Mean Squared Error(MSE)\")\n",
    "print(\"MSE=\",MSE)\n",
    "RMSE,Residual3=RMSE(y_true,y_measured)\n",
    "print(\"The residual error measured using Root Mean Squared Error(RMSE)\")\n",
    "print(\"RMSE=\",RMSE)"
   ]
  },
  {
   "cell_type": "markdown",
   "metadata": {},
   "source": [
    "### Task-3 Finding the variance   "
   ]
  },
  {
   "cell_type": "code",
   "execution_count": 30,
   "metadata": {},
   "outputs": [
    {
     "name": "stdout",
     "output_type": "stream",
     "text": [
      "The variance of the Y_true:  1.4265578092485691\n",
      "The variance of the Y_measured:  3.2139292899408285\n"
     ]
    }
   ],
   "source": [
    "Var=Variance(y_true)\n",
    "print(\"The variance of the Y_true: \",Var)\n",
    "Var=Variance(y_measured)\n",
    "print(\"The variance of the Y_measured: \",Var)"
   ]
  },
  {
   "cell_type": "markdown",
   "metadata": {},
   "source": [
    "#### The variance measures \"how scattered the points are from the mean value\" :\n",
    "        if it is positive variance most of the values are above the mean line \n",
    "        if it is negative variance most of the values are below the mean line "
   ]
  }
 ],
 "metadata": {
  "kernelspec": {
   "display_name": "Python 3",
   "language": "python",
   "name": "python3"
  },
  "language_info": {
   "codemirror_mode": {
    "name": "ipython",
    "version": 3
   },
   "file_extension": ".py",
   "mimetype": "text/x-python",
   "name": "python",
   "nbconvert_exporter": "python",
   "pygments_lexer": "ipython3",
   "version": "3.7.6"
  }
 },
 "nbformat": 4,
 "nbformat_minor": 4
}
