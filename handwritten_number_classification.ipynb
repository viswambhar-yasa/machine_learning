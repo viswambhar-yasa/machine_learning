{
 "cells": [
  {
   "cell_type": "markdown",
   "metadata": {},
   "source": [
    "### MULTI-CLASS CLASSIFICATION\n",
    "Implementation of multi scale classification using logistic regression with Neural Network architecture "
   ]
  },
  {
   "cell_type": "code",
   "execution_count": 1,
   "metadata": {},
   "outputs": [],
   "source": [
    "# importing python libraries \n",
    "import numpy as np\n",
    "import pandas as pd\n",
    "from scipy.io import loadmat\n",
    "import matplotlib.pyplot as plt"
   ]
  },
  {
   "cell_type": "markdown",
   "metadata": {},
   "source": [
    "### importing dataset "
   ]
  },
  {
   "cell_type": "code",
   "execution_count": 2,
   "metadata": {},
   "outputs": [
    {
     "data": {
      "text/plain": [
       "dict_keys(['__header__', '__version__', '__globals__', 'Theta1', 'Theta2'])"
      ]
     },
     "execution_count": 2,
     "metadata": {},
     "output_type": "execute_result"
    }
   ],
   "source": [
    "#data preprocessing\n",
    "filename1=\"./datasets/mnist_data.mat\"\n",
    "data = loadmat(filename1)\n",
    "data.keys()\n",
    "\n",
    "filename2=\"./datasets/mnist_weights.mat\"\n",
    "weights = loadmat(filename2)\n",
    "weights.keys()"
   ]
  },
  {
   "cell_type": "markdown",
   "metadata": {},
   "source": [
    "### Analysis from the dataset\n",
    "Since the dataset is obtained from images which are handwritten number \n",
    "first row is our output. \n",
    "remaning rows contain info about the image."
   ]
  },
  {
   "cell_type": "code",
   "execution_count": 3,
   "metadata": {},
   "outputs": [
    {
     "name": "stdout",
     "output_type": "stream",
     "text": [
      "The number of features in our model (n): 400\n",
      "The number of training examples (m): 5000\n"
     ]
    }
   ],
   "source": [
    "Y = data['y']\n",
    "# Add constant for intercept\n",
    "X = np.c_[np.ones((data['X'].shape[0],1)), data['X']]\n",
    "theta1, theta2 = weights['Theta1'], weights['Theta2']\n",
    "n=X.shape[1]-1\n",
    "m=Y.size\n",
    "print(\"The number of features in our model (n):\",n)\n",
    "print(\"The number of training examples (m):\",m)"
   ]
  },
  {
   "cell_type": "markdown",
   "metadata": {},
   "source": [
    "### Visualization of dataset\n",
    "For better understanding about the datset\n",
    "Input data is images of 20 pixcels size numbers"
   ]
  },
  {
   "cell_type": "code",
   "execution_count": 4,
   "metadata": {},
   "outputs": [
    {
     "data": {
      "image/png": "[encoded data removed]",
      "text/plain": [
       "<Figure size 432x288 with 1 Axes>"
      ]
     },
     "metadata": {
      "needs_background": "light"
     },
     "output_type": "display_data"
    }
   ],
   "source": [
    "no=20\n",
    "sample = np.random.choice(X.shape[0], no)\n",
    "plt.imshow(X[sample,1:].reshape(-1,no).T)\n",
    "plt.axis('off');"
   ]
  },
  {
   "cell_type": "code",
   "execution_count": 5,
   "metadata": {},
   "outputs": [],
   "source": [
    "def sigmoid(z):\n",
    "    g=1/(1+np.exp(-z))\n",
    "    return g\n",
    "\n",
    "def cost_function(weights,X,Y,lamda):\n",
    "    m = Y.size\n",
    "    h = sigmoid(X.dot(weights))\n",
    "    \n",
    "    J = -1*(1/m)*(np.log(h).T.dot(Y)+np.log(1-h).T.dot(1-Y)) + (lamda/(2*m))*np.sum(np.square(weights[1:]))\n",
    "    \n",
    "    return(J[0])\n",
    "\n",
    "def gradient(weights, X,Y,lamda):\n",
    "    m = Y.size\n",
    "    h = sigmoid(X.dot(weights.reshape(-1,1)))\n",
    "      \n",
    "    grad = (1/m)*X.T.dot(h-Y) + (lamda/m)*np.r_[[[0]],weights[1:].reshape(-1,1)]\n",
    "        \n",
    "    return(grad.flatten())"
   ]
  },
  {
   "cell_type": "code",
   "execution_count": 6,
   "metadata": {},
   "outputs": [],
   "source": [
    "from scipy.optimize import minimize\n",
    "def oneVsAll(X, Y, n_labels, lamda):\n",
    "    initial_weights = np.zeros((X.shape[1],1))  \n",
    "    all_weights = np.zeros((n_labels, X.shape[1])) \n",
    "\n",
    "    for i in np.arange(1, n_labels+1):\n",
    "        model_parameters = minimize(cost_function, initial_weights, args=( X,(Y == i)*1,lamda), method=None,\n",
    "                       jac=gradient, options={'maxiter':50})\n",
    "        all_weights[i-1] = model_parameters.x\n",
    "    return(all_weights)"
   ]
  },
  {
   "cell_type": "code",
   "execution_count": 7,
   "metadata": {},
   "outputs": [],
   "source": [
    "final_parameters = oneVsAll(X, Y, 10, 0.1)"
   ]
  },
  {
   "cell_type": "code",
   "execution_count": 8,
   "metadata": {},
   "outputs": [],
   "source": [
    "def predict(X,parameters):\n",
    "    y = sigmoid(X.dot(parameters.T)).T\n",
    "        \n",
    "    return (np.argmax(y, axis=1)+1)"
   ]
  },
  {
   "cell_type": "code",
   "execution_count": 9,
   "metadata": {},
   "outputs": [
    {
     "name": "stdout",
     "output_type": "stream",
     "text": [
      "Training set accuracy of my model: 93.24 %\n"
     ]
    }
   ],
   "source": [
    "my_model_pred=predict(final_parameters,X)\n",
    "print('Training set accuracy of my model: {} %'.format(np.mean(my_model_pred == Y.ravel())*100))"
   ]
  },
  {
   "cell_type": "markdown",
   "metadata": {},
   "source": [
    "### Comparing my implemetation with sci-kit learn library"
   ]
  },
  {
   "cell_type": "code",
   "execution_count": 10,
   "metadata": {},
   "outputs": [
    {
     "data": {
      "text/plain": [
       "LogisticRegression(C=10, penalty='l1', solver='liblinear')"
      ]
     },
     "execution_count": 10,
     "metadata": {},
     "output_type": "execute_result"
    }
   ],
   "source": [
    "from sklearn.linear_model import LogisticRegression\n",
    "sk_model = LogisticRegression(C=10, penalty='l1', solver='liblinear')\n",
    "sk_model.fit(X[:,1:],Y.ravel())"
   ]
  },
  {
   "cell_type": "markdown",
   "metadata": {},
   "source": [
    "### For better accuracy of the model we are using regularization techniques like lasso with lamda 10"
   ]
  },
  {
   "cell_type": "code",
   "execution_count": 11,
   "metadata": {},
   "outputs": [
    {
     "name": "stdout",
     "output_type": "stream",
     "text": [
      "Training set accuracy of scikit learn: 96.96000000000001 %\n"
     ]
    }
   ],
   "source": [
    "sk_model_pred=sk_model.predict(X[:,1:])\n",
    "print('Training set accuracy of scikit learn: {} %'.format(np.mean(sk_model_pred == Y.ravel())*100))"
   ]
  },
  {
   "cell_type": "code",
   "execution_count": null,
   "metadata": {},
   "outputs": [],
   "source": []
  }
 ],
 "metadata": {
  "kernelspec": {
   "display_name": "Python 3.7.4 64-bit",
   "language": "python",
   "name": "python37464bitea317a4e8f5f425ab9c1f0cd775dc5b1"
  },
  "language_info": {
   "codemirror_mode": {
    "name": "ipython",
    "version": 3
   },
   "file_extension": ".py",
   "mimetype": "text/x-python",
   "name": "python",
   "nbconvert_exporter": "python",
   "pygments_lexer": "ipython3",
   "version": "3.7.4"
  }
 },
 "nbformat": 4,
 "nbformat_minor": 4
}
