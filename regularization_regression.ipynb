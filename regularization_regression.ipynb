{
 "cells": [
  {
   "cell_type": "markdown",
   "metadata": {},
   "source": [
    "### REGULARIZATION \n",
    "Implementing regularization and understanding the concept of cross validation"
   ]
  },
  {
   "cell_type": "code",
   "execution_count": 1,
   "metadata": {},
   "outputs": [],
   "source": [
    "#importing python libraries \n",
    "import numpy as np\n",
    "import matplotlib.pyplot as plt\n",
    "import pandas as pd\n",
    "from scipy.io import loadmat"
   ]
  },
  {
   "cell_type": "markdown",
   "metadata": {},
   "source": [
    "#### Importing datasets"
   ]
  },
  {
   "cell_type": "code",
   "execution_count": 2,
   "metadata": {},
   "outputs": [
    {
     "name": "stdout",
     "output_type": "stream",
     "text": [
      "dict_keys(['__header__', '__version__', '__globals__', 'X', 'y', 'Xtest', 'ytest', 'Xval', 'yval'])\n"
     ]
    }
   ],
   "source": [
    "filename='./datasets/dam_water_flow.mat'\n",
    "dataset=loadmat(filename)\n",
    "## dataset is a dictionary and seperating them accordingly\n",
    "print(dataset.keys())"
   ]
  },
  {
   "cell_type": "code",
   "execution_count": 3,
   "metadata": {},
   "outputs": [],
   "source": [
    "X_train=dataset[\"X\"]\n",
    "Y_train=dataset[\"y\"]\n",
    "X_CV=dataset[\"Xval\"]\n",
    "Y_CV=dataset[\"yval\"]\n",
    "X_test=dataset[\"Xtest\"]\n",
    "Y_test=dataset[\"ytest\"]\n",
    "assert(X_train.shape[1]==1)\n",
    "assert(Y_train.shape[1]==1)\n"
   ]
  },
  {
   "cell_type": "markdown",
   "metadata": {},
   "source": [
    "### Visualization of dataset\n",
    "For better understanding the dataset \n"
   ]
  },
  {
   "cell_type": "code",
   "execution_count": 4,
   "metadata": {},
   "outputs": [
    {
     "data": {
      "image/png": "[encoded data removed]",
      "text/plain": [
       "<Figure size 576x504 with 1 Axes>"
      ]
     },
     "metadata": {
      "needs_background": "light"
     },
     "output_type": "display_data"
    }
   ],
   "source": [
    "fig,ax=plt.subplots(figsize=(8,7))\n",
    "ax.scatter(X_train,Y_train,color='b',marker='o')\n",
    "plt.title(\"Water flow from dam \")\n",
    "plt.xlabel('Relative change in water level in DAM')\n",
    "plt.ylabel('Flow of water for DAM')\n",
    "plt.grid()"
   ]
  },
  {
   "cell_type": "code",
   "execution_count": 5,
   "metadata": {},
   "outputs": [
    {
     "name": "stdout",
     "output_type": "stream",
     "text": [
      "Number of training examples: 12\n",
      "Number of validation examples: 21\n",
      "Number of test examples: 21\n",
      "[[  1.         -15.93675813]\n",
      " [  1.         -29.15297922]\n",
      " [  1.          36.18954863]\n",
      " [  1.          37.49218733]\n",
      " [  1.         -48.05882945]\n",
      " [  1.          -8.94145794]\n",
      " [  1.          15.30779289]\n",
      " [  1.         -34.70626581]\n",
      " [  1.           1.38915437]\n",
      " [  1.         -44.38375985]\n",
      " [  1.           7.01350208]\n",
      " [  1.          22.76274892]]\n"
     ]
    }
   ],
   "source": [
    "m=X_train.shape[0]\n",
    "m_cv=X_CV.shape[0]\n",
    "m_test=X_test.shape[0]\n",
    "print('Number of training examples:',m)\n",
    "print('Number of validation examples:',m_cv)\n",
    "print('Number of test examples:',m_test)\n",
    "x_o=np.ones([m,1])\n",
    "X_train=np.hstack((x_o,X_train))\n",
    "print(X_train)"
   ]
  },
  {
   "cell_type": "markdown",
   "metadata": {},
   "source": [
    "### Building linear regression model"
   ]
  },
  {
   "cell_type": "code",
   "execution_count": 6,
   "metadata": {},
   "outputs": [
    {
     "name": "stdout",
     "output_type": "stream",
     "text": [
      "The cost function for initial weights : [304.03485889]\n",
      "The gradients for initial weights : [[-15.21968234]\n",
      " [598.25074417]]\n"
     ]
    }
   ],
   "source": [
    "def hypothesis(X,parameters):\n",
    "    h=np.dot(X,parameters)\n",
    "    return h\n",
    "\n",
    "def cost_function(parameters,X,Y,lamda=0):\n",
    "    m=Y.size\n",
    "    h=hypothesis(X,parameters)\n",
    "    #print(np.sum(((h-Y)**2),axis=0,keepdims=True))\n",
    "    #print(np.sum(parameters[1:].T**2,axis=0,keepdims=True))\n",
    "    #print(h)\n",
    "    J=(1/(2*m))*np.sum(((h-Y)**2),axis=0,keepdims=True)+(lamda/m)*np.sum(parameters[1:].T**2,axis=0,keepdims=True)\n",
    "    return J.flatten()\n",
    "\n",
    "def gradients(parameters,X,Y,lamda=0):\n",
    "    m=Y.size\n",
    "    h=hypothesis(X,parameters)\n",
    "    #print(np.sum(np.dot((h-Y).T,X),axis=0,keepdims=True))\n",
    "    #print((lamda/m)*parameters.T)\n",
    "    grad=(1/(m))*np.sum(np.dot((h-Y).T,X),axis=0,keepdims=True)+(lamda/m)*parameters[1:].T\n",
    "    return grad.T\n",
    "initial_weights=np.ones([2,1])\n",
    "print('The cost function for initial weights :',cost_function(initial_weights,X_train,Y_train,1))\n",
    "print('The gradients for initial weights :',gradients(initial_weights,X_train,Y_train,1))"
   ]
  },
  {
   "cell_type": "code",
   "execution_count": 7,
   "metadata": {},
   "outputs": [],
   "source": [
    "def linear_regression(X,Y,lamda=0,learning_rate=0.05,max_iteration=1000):\n",
    "    parameters=np.zeros((X.shape[1],1))\n",
    "    cost=cost_function(parameters,X,Y,lamda)\n",
    "    #print(cost)\n",
    "    total_cost=[]\n",
    "    total_cost.append(cost)\n",
    "    grad=np.zeros((X.shape[1],1))\n",
    "    tol=1e-2\n",
    "    for i in range(max_iteration):\n",
    "        parameters_old=parameters\n",
    "        grad=gradients(parameters_old,X,Y,lamda)\n",
    "        parameters-=learning_rate*grad\n",
    "        J=cost_function(parameters,X,Y,lamda)\n",
    "        total_cost.append(J[0])\n",
    "    return parameters\n"
   ]
  },
  {
   "cell_type": "code",
   "execution_count": 8,
   "metadata": {},
   "outputs": [
    {
     "name": "stdout",
     "output_type": "stream",
     "text": [
      "[[13.0871011 ]\n",
      " [ 0.36777442]]\n",
      "cost function using gradient descent method: [22.37390681]\n"
     ]
    }
   ],
   "source": [
    "trained_para=linear_regression(X_train,Y_train,0,0.001,10000)\n",
    "print(trained_para)\n",
    "print('cost function using gradient descent method:',cost_function(trained_para, X_train, Y_train, 0))"
   ]
  },
  {
   "cell_type": "code",
   "execution_count": 9,
   "metadata": {},
   "outputs": [
    {
     "name": "stdout",
     "output_type": "stream",
     "text": [
      "[[13.08790351]\n",
      " [ 0.36777923]]\n",
      "[22.3739065]\n"
     ]
    }
   ],
   "source": [
    "from sklearn.linear_model import LinearRegression\n",
    "regr = LinearRegression(fit_intercept=False)\n",
    "regr.fit(X_train, Y_train.ravel())\n",
    "model_parameters=regr.coef_\n",
    "print(np.array([model_parameters]).T)\n",
    "print(cost_function(np.array([model_parameters]).T, X_train, Y_train, 0))"
   ]
  },
  {
   "cell_type": "code",
   "execution_count": 10,
   "metadata": {},
   "outputs": [
    {
     "data": {
      "text/plain": [
       "Text(0.5, 1.0, 'Comparition of models')"
      ]
     },
     "execution_count": 10,
     "metadata": {},
     "output_type": "execute_result"
    },
    {
     "data": {
      "image/png": "[encoded data removed]",
      "text/plain": [
       "<Figure size 648x648 with 1 Axes>"
      ]
     },
     "metadata": {
      "needs_background": "light"
     },
     "output_type": "display_data"
    }
   ],
   "source": [
    "X_inputs=np.linspace(-50,40)\n",
    "Y=trained_para[0]+trained_para[1]*X_inputs\n",
    "Y_model=model_parameters[0]+model_parameters[1]*X_inputs\n",
    "fig,ax =plt.subplots(figsize=(9,9))\n",
    "ax.scatter(dataset[\"X\"],Y_train,marker='h',color='#4b0082')\n",
    "ax.plot(X_inputs,Y,label='LR model',linewidth=4)\n",
    "ax.plot(X_inputs,Y_model,label='sklearn LR',linewidth=2)\n",
    "plt.title(\"Water flow from dam \")\n",
    "plt.xlabel('Relative change in water level in DAM')\n",
    "plt.ylabel('Flow of water for DAM')\n",
    "plt.grid()\n",
    "plt.legend()\n",
    "plt.title('Comparition of models')"
   ]
  },
  {
   "cell_type": "markdown",
   "metadata": {},
   "source": [
    "##### performing cross validation and building learning curve for better understanding of the parameters which have to be optimized for a better fit"
   ]
  },
  {
   "cell_type": "code",
   "execution_count": 11,
   "metadata": {},
   "outputs": [],
   "source": [
    "def learning_curve(X,Y,X_CV,Y_CV,lamda=0):\n",
    "    m=X.shape[0]\n",
    "    train_loss=[]\n",
    "    validation_loss=[]\n",
    "    for i in range(1,m):\n",
    "        parameters=linear_regression(X[:i],Y[:i],lamda,0.001,10000)\n",
    "        J_t=cost_function(parameters,X[:i],Y[:i],lamda)\n",
    "        J_CV=cost_function(parameters,X_CV,Y_CV,lamda)\n",
    "        train_loss.append(J_t)\n",
    "        validation_loss.append(J_CV)\n",
    "    return train_loss,validation_loss"
   ]
  },
  {
   "cell_type": "code",
   "execution_count": 12,
   "metadata": {},
   "outputs": [],
   "source": [
    "x_o=np.ones([m_cv,1])\n",
    "X_C=np.hstack((x_o,X_CV))\n",
    "t_l,v_l=learning_curve(X_train,Y_train,X_C,Y_CV)"
   ]
  },
  {
   "cell_type": "code",
   "execution_count": 13,
   "metadata": {},
   "outputs": [
    {
     "data": {
      "image/png": "[encoded data removed]",
      "text/plain": [
       "<Figure size 432x288 with 1 Axes>"
      ]
     },
     "metadata": {
      "needs_background": "light"
     },
     "output_type": "display_data"
    }
   ],
   "source": [
    "plt.plot(np.arange(1,12), t_l, label='Training error')\n",
    "plt.plot(np.arange(1,12), v_l, label='Validation error')\n",
    "plt.title('Learning curve for linear regression')\n",
    "plt.xlabel('Number of training examples')\n",
    "plt.ylabel('Error')\n",
    "plt.legend();"
   ]
  },
  {
   "cell_type": "markdown",
   "metadata": {},
   "source": [
    "### Analysis of the learning curve\n",
    "From the learning curve, the bias is less which means the model is underfitting. We will check the model's accuarcy with test data."
   ]
  },
  {
   "cell_type": "code",
   "execution_count": 14,
   "metadata": {},
   "outputs": [
    {
     "name": "stdout",
     "output_type": "stream",
     "text": [
      "Cost function for test data : [32.50745516]\n",
      "[[-15.93675813]\n",
      " [-29.15297922]\n",
      " [ 36.18954863]\n",
      " [ 37.49218733]\n",
      " [-48.05882945]\n",
      " [ -8.94145794]\n",
      " [ 15.30779289]\n",
      " [-34.70626581]\n",
      " [  1.38915437]\n",
      " [-44.38375985]\n",
      " [  7.01350208]\n",
      " [ 22.76274892]]\n"
     ]
    }
   ],
   "source": [
    "x_o=np.ones([m_test,1])\n",
    "X_t=np.hstack((x_o,X_test))\n",
    "  \n",
    "print('Cost function for test data :',cost_function(trained_para,X_t,Y_test,lamda=0))\n",
    "print(np.array([X_train[:,1]]).T)"
   ]
  },
  {
   "cell_type": "code",
   "execution_count": 15,
   "metadata": {},
   "outputs": [],
   "source": [
    "def poly(X_input,degree):\n",
    "    n=X_input.shape[0]\n",
    "    m=X_input.shape[1]\n",
    "    #print(n,m)\n",
    "    X_input,mu,sigma=normalization(X_input)\n",
    "    X=np.zeros((n*degree+1,m))\n",
    "    j=0\n",
    "    o=0\n",
    "    for i in range(0,n*degree+1): \n",
    "        X[i,:]=X_input[j,:]**o\n",
    "        if o<degree:\n",
    "            o+=1\n",
    "        else:\n",
    "            j+=1\n",
    "            o=1   \n",
    "    return X.T,mu,sigma\n",
    "\n",
    "def normalization(X):\n",
    "    mu = np.mean(X, axis=0)\n",
    "    sigma = np.std(X, axis=0, ddof=1)\n",
    "    X_norm = (X - mu) / sigma\n",
    "    return X_norm,mu,sigma"
   ]
  },
  {
   "cell_type": "code",
   "execution_count": null,
   "metadata": {},
   "outputs": [],
   "source": []
  },
  {
   "cell_type": "code",
   "execution_count": 16,
   "metadata": {},
   "outputs": [
    {
     "name": "stderr",
     "output_type": "stream",
     "text": [
      "C:\\Users\\VISWAMBHAR YASA\\AppData\\Local\\Programs\\Python\\Python37\\lib\\site-packages\\sklearn\\linear_model\\_ridge.py:148: LinAlgWarning: Ill-conditioned matrix (rcond=2.35663e-26): result may not be accurate.\n",
      "  overwrite_a=True).T\n"
     ]
    },
    {
     "data": {
      "image/png": "[encoded data removed]",
      "text/plain": [
       "<Figure size 432x288 with 1 Axes>"
      ]
     },
     "metadata": {
      "needs_background": "light"
     },
     "output_type": "display_data"
    }
   ],
   "source": [
    "from sklearn.linear_model import Ridge\n",
    "from sklearn.preprocessing import PolynomialFeatures\n",
    "poly = PolynomialFeatures(degree=8)\n",
    "X_train_poly = poly.fit_transform(X_train[:,1].reshape(-1,1))\n",
    "\n",
    "regr2 = LinearRegression()\n",
    "regr2.fit(X_train_poly, Y_train)\n",
    "\n",
    "regr3 = Ridge(alpha=20)\n",
    "regr3.fit(X_train_poly, Y_train)\n",
    "\n",
    "# plot range for x\n",
    "plot_x = np.linspace(-60,45)\n",
    "# using coefficients to calculate y\n",
    "plot_y = regr2.intercept_+ np.sum(regr2.coef_*poly.fit_transform(plot_x.reshape(-1,1)), axis=1)\n",
    "plot_y2 = regr3.intercept_ + np.sum(regr3.coef_*poly.fit_transform(plot_x.reshape(-1,1)), axis=1)\n",
    "\n",
    "plt.plot(plot_x, plot_y, label='Scikit-learn LinearRegression')\n",
    "plt.plot(plot_x, plot_y2, label='Scikit-learn Ridge (alpha={})'.format(regr3.alpha))\n",
    "plt.scatter(X_train[:,1], Y_train, s=50, c='r', marker='x', linewidths=1)\n",
    "plt.xlabel('Change in water level (x)')\n",
    "plt.ylabel('Water flowing out of the dam (y)')\n",
    "plt.title('Polynomial regression degree 8')\n",
    "plt.legend(loc=4);"
   ]
  },
  {
   "cell_type": "code",
   "execution_count": null,
   "metadata": {},
   "outputs": [],
   "source": []
  },
  {
   "cell_type": "code",
   "execution_count": null,
   "metadata": {},
   "outputs": [],
   "source": []
  }
 ],
 "metadata": {
  "kernelspec": {
   "display_name": "Python 3.7.4 64-bit",
   "language": "python",
   "name": "python37464bitea317a4e8f5f425ab9c1f0cd775dc5b1"
  },
  "language_info": {
   "codemirror_mode": {
    "name": "ipython",
    "version": 3
   },
   "file_extension": ".py",
   "mimetype": "text/x-python",
   "name": "python",
   "nbconvert_exporter": "python",
   "pygments_lexer": "ipython3",
   "version": "3.7.4"
  }
 },
 "nbformat": 4,
 "nbformat_minor": 4
}
