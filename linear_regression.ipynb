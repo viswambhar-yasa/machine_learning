{
 "cells": [
  {
   "cell_type": "markdown",
   "metadata": {},
   "source": [
    "## LINEAR REGRESSION"
   ]
  },
  {
   "cell_type": "code",
   "execution_count": 1,
   "metadata": {},
   "outputs": [],
   "source": [
    "import numpy as np\n",
    "import matplotlib.pyplot as plt"
   ]
  },
  {
   "cell_type": "markdown",
   "metadata": {},
   "source": [
    "#### Importing data from text file\n",
    "The dataset conatins population of the city and profits from food trucks"
   ]
  },
  {
   "cell_type": "code",
   "execution_count": 2,
   "metadata": {},
   "outputs": [
    {
     "name": "stdout",
     "output_type": "stream",
     "text": [
      "dataset= [[ 6.1101 17.592 ]\n",
      " [ 5.5277  9.1302]\n",
      " [ 8.5186 13.662 ]\n",
      " [ 7.0032 11.854 ]\n",
      " [ 5.8598  6.8233]]\n",
      "population = [[6.1101]\n",
      " [5.5277]\n",
      " [8.5186]\n",
      " [7.0032]\n",
      " [5.8598]]\n",
      "profits = [[17.592 ]\n",
      " [ 9.1302]\n",
      " [13.662 ]\n",
      " [11.854 ]\n",
      " [ 6.8233]]\n"
     ]
    }
   ],
   "source": [
    "filename = './datasets/food_truck_data.txt'\n",
    "data = np.loadtxt(filename, delimiter=',', dtype=float)\n",
    "# storing data in row based arrays\n",
    "population=np.c_[data[:,0]]\n",
    "profits=np.c_[data[:,1]]\n",
    "print(\"dataset=\",data[:5,:])\n",
    "print(\"population =\",population[:5,:])\n",
    "print(\"profits =\",profits[:5,:])"
   ]
  },
  {
   "cell_type": "markdown",
   "metadata": {},
   "source": [
    "#### plotting population vs profits "
   ]
  },
  {
   "cell_type": "code",
   "execution_count": 3,
   "metadata": {},
   "outputs": [
    {
     "data": {
      "text/plain": [
       "Text(0.5, 1.0, 'Population vs revenues ')"
      ]
     },
     "execution_count": 3,
     "metadata": {},
     "output_type": "execute_result"
    },
    {
     "data": {
      "image/png": "[encoded data removed]",
      "text/plain": [
       "<Figure size 432x288 with 1 Axes>"
      ]
     },
     "metadata": {
      "needs_background": "light"
     },
     "output_type": "display_data"
    }
   ],
   "source": [
    "plt.scatter(population,profits,marker='o',color='g')\n",
    "plt.xlabel('population of the city 10,000')\n",
    "plt.ylabel('profits 10,000 $')\n",
    "plt.title('Population vs revenues ')"
   ]
  },
  {
   "cell_type": "markdown",
   "metadata": {},
   "source": [
    "### Analysis of the scatter plot\n",
    "The revenue increases with respect to the population of the city, but we can also find for some city with less population. The revenue is less than zero indicating that it is facing losses."
   ]
  },
  {
   "cell_type": "markdown",
   "metadata": {},
   "source": [
    "### Performing linear regression on this model \n",
    "\n",
    "To build linear regression model, we need to build cost function which calcualtes the mean squared error of the hypothesis"
   ]
  },
  {
   "cell_type": "code",
   "execution_count": 4,
   "metadata": {},
   "outputs": [],
   "source": [
    "def cost_function(X,Y,weights):\n",
    "    '''\n",
    "    X= feature of the model size (n+1,m) n=no of feature m=no of training examples\n",
    "    Y= actual value of the model\n",
    "    parameters= weight functions \n",
    "                2 for linear [w0,w1]\n",
    "    '''\n",
    "    m=Y.shape[0] # Number of training examples\n",
    "    n=X.shape[1]\n",
    "    #print(n)\n",
    "    hypothesis=np.dot(X,weights)\n",
    "    if n==2:\n",
    "        J=np.sum((hypothesis-Y)**2)/(2*m)\n",
    "    else:\n",
    "        J = 1.0 / (2 * m) * hypothesis.T.dot(hypothesis)\n",
    "        J=J[0,0]\n",
    "    return J\n"
   ]
  },
  {
   "cell_type": "code",
   "execution_count": 5,
   "metadata": {},
   "outputs": [],
   "source": [
    "def initial_parameters(data):\n",
    "    X=np.c_[np.ones(data.shape[0]),data[:,:-1]]\n",
    "    Y=np.c_[data[:,1]]\n",
    "    weights=np.zeros((X.shape[1],1))\n",
    "    return X,Y,weights"
   ]
  },
  {
   "cell_type": "code",
   "execution_count": 6,
   "metadata": {},
   "outputs": [],
   "source": [
    "def gradient_descent(X,Y,weights,learning_rate,num_iteration=250):\n",
    "    m=X.shape[0] # number of training sets\n",
    "    n=X.shape[1]\n",
    "    J_history=[]\n",
    "    dweight=np.zeros((n,1))\n",
    "    for i in range(0,num_iteration):\n",
    "        hypothesis=np.dot(X,weights)\n",
    "        #print(hypothesis)\n",
    "        dweights=np.dot(X.T,(hypothesis-Y))/m\n",
    "        weights= weights-learning_rate*dweights\n",
    "        J_history.append(cost_function(X,Y,weights))\n",
    "    return weights,J_history"
   ]
  },
  {
   "cell_type": "code",
   "execution_count": 7,
   "metadata": {},
   "outputs": [],
   "source": [
    "def linear_regression_model(X,Y,initial_weights=[[0] ,[0]],learning_rate=0.01,num_iteration=2500):\n",
    "    final_weights,cost_history=gradient_descent(X,Y,initial_weights,learning_rate,num_iteration)\n",
    "    return final_weights,cost_history"
   ]
  },
  {
   "cell_type": "code",
   "execution_count": 8,
   "metadata": {},
   "outputs": [],
   "source": [
    "X,Y,weight=initial_parameters(data)\n",
    "parameters,loss_function=linear_regression_model(X,Y,weight)"
   ]
  },
  {
   "cell_type": "code",
   "execution_count": 9,
   "metadata": {},
   "outputs": [
    {
     "data": {
      "text/plain": [
       "Text(0.5, 1.0, 'MINIMIZATION OF COST FUNCTION ')"
      ]
     },
     "execution_count": 9,
     "metadata": {},
     "output_type": "execute_result"
    },
    {
     "data": {
      "image/png": "[encoded data removed]",
      "text/plain": [
       "<Figure size 432x288 with 1 Axes>"
      ]
     },
     "metadata": {
      "needs_background": "light"
     },
     "output_type": "display_data"
    }
   ],
   "source": [
    "plt.plot(np.arange(0,len(loss_function)),loss_function)\n",
    "plt.xlabel('Number of iteration N')\n",
    "plt.ylabel('Cost function J')\n",
    "plt.title(\"MINIMIZATION OF COST FUNCTION \")"
   ]
  },
  {
   "cell_type": "code",
   "execution_count": 10,
   "metadata": {},
   "outputs": [
    {
     "name": "stdout",
     "output_type": "stream",
     "text": [
      "Weight for following model= [[-3.85208068]\n",
      " [ 1.18864349]]\n"
     ]
    }
   ],
   "source": [
    "print(\"Weight for following model=\",parameters)"
   ]
  },
  {
   "cell_type": "markdown",
   "metadata": {},
   "source": [
    "### Comparing my model with standard model from sklearn linear regression"
   ]
  },
  {
   "cell_type": "code",
   "execution_count": 11,
   "metadata": {},
   "outputs": [
    {
     "name": "stdout",
     "output_type": "stream",
     "text": [
      "Accuracy of the model: 0.7020315537841397\n",
      "parameters from model [-3.89578088  1.19303364]\n",
      "The difference in weight for skleran model and my implementation [-0.0437002   0.00439016]\n"
     ]
    }
   ],
   "source": [
    "from sklearn.linear_model import LinearRegression\n",
    "model_LR = LinearRegression()\n",
    "model_LR.fit(population, profits)\n",
    "print(\"Accuracy of the model:\", model_LR.score(population, profits))\n",
    "model_parameters=[]\n",
    "model_parameters.append(model_LR.intercept_[0])\n",
    "model_parameters.append(model_LR.coef_[0,0])\n",
    "print(\"parameters from model\",np.array(model_parameters).T)\n",
    "print(\"The difference in weight for skleran model and my implementation\",(model_parameters-parameters.ravel()))"
   ]
  },
  {
   "cell_type": "markdown",
   "metadata": {},
   "source": [
    "#### prediction of new revenue for given population\n",
    "\n",
    "After training the model with linear regression, the parameters are obtained i.e intercept and co-efficent"
   ]
  },
  {
   "cell_type": "code",
   "execution_count": 12,
   "metadata": {},
   "outputs": [
    {
     "name": "stdout",
     "output_type": "stream",
     "text": [
      "predicting values using my implementation\n",
      "The revenue of the city with population 10 K is  [80343.54172617]\n",
      "predicting values using my sklearn linear regression model\n",
      "The revenue of the city with population 10 K is  80345.55563584085\n",
      "difference: [0.00020139]\n"
     ]
    }
   ],
   "source": [
    "predict1=[1,10]\n",
    "revenue=np.dot(predict1,parameters)\n",
    "print('predicting values using my implementation')\n",
    "print('The revenue of the city with population 10 K is ',revenue*10000)\n",
    "model_revenue=np.dot(predict1,model_parameters)\n",
    "print('predicting values using my sklearn linear regression model')\n",
    "print('The revenue of the city with population 10 K is ',model_revenue*10000)\n",
    "print(\"difference:\",model_revenue-revenue)"
   ]
  },
  {
   "cell_type": "markdown",
   "metadata": {},
   "source": [
    "### plotting linear regression "
   ]
  },
  {
   "cell_type": "code",
   "execution_count": 13,
   "metadata": {},
   "outputs": [
    {
     "data": {
      "text/plain": [
       "Text(0.5, 1.0, 'Comparition of models')"
      ]
     },
     "execution_count": 13,
     "metadata": {},
     "output_type": "execute_result"
    },
    {
     "data": {
      "image/png": "[encoded data removed]",
      "text/plain": [
       "<Figure size 648x648 with 1 Axes>"
      ]
     },
     "metadata": {
      "needs_background": "light"
     },
     "output_type": "display_data"
    }
   ],
   "source": [
    "X_inputs=np.arange(3,25)\n",
    "Y=parameters[0]+parameters[1]*X_inputs\n",
    "Y_model=model_parameters[0]+model_parameters[1]*X_inputs\n",
    "fig,ax =plt.subplots(figsize=(9,9))\n",
    "ax.scatter(population,profits,marker='h',color='#4b0082')\n",
    "ax.plot(X_inputs,Y,label='LR model')\n",
    "ax.plot(X_inputs,Y_model,label='sklearn LR')\n",
    "plt.xlabel('population of the city (10,000)')\n",
    "plt.ylabel('profits (10,000)')\n",
    "plt.legend()\n",
    "plt.grid()\n",
    "plt.title('Comparition of models')"
   ]
  },
  {
   "cell_type": "markdown",
   "metadata": {},
   "source": [
    "# Using linear regression model for multiple feature"
   ]
  },
  {
   "cell_type": "code",
   "execution_count": 27,
   "metadata": {},
   "outputs": [
    {
     "name": "stdout",
     "output_type": "stream",
     "text": [
      "   size  nobedrm   price\n",
      "0  2104        3  399900\n",
      "1  1600        3  329900\n",
      "2  2400        3  369000\n",
      "3  1416        2  232000\n",
      "4  3000        4  539900\n"
     ]
    }
   ],
   "source": [
    "import pandas as pd\n",
    "filename = './datasets/housing_data.txt'\n",
    "data = pd.read_csv(filename, sep=\",\", header=None)\n",
    "data.columns = [\"size\", \"nobedrm\", \"price\"]\n",
    "print(data.head())\n",
    "data = np.loadtxt(filename, delimiter=',', dtype=float)\n",
    "columns = [\"size\", \"nobedrm\", \"price\"]\n",
    "X_train=data[:,:-1]\n",
    "Y_train=data[:,-1]"
   ]
  },
  {
   "cell_type": "markdown",
   "metadata": {},
   "source": [
    "### Analysis of the data through plotting"
   ]
  },
  {
   "cell_type": "code",
   "execution_count": 29,
   "metadata": {},
   "outputs": [
    {
     "data": {
      "image/png": "[encoded data removed]",
      "text/plain": [
       "<Figure size 1080x720 with 9 Axes>"
      ]
     },
     "metadata": {
      "needs_background": "light"
     },
     "output_type": "display_data"
    }
   ],
   "source": [
    "K=3\n",
    "fig,axes = plt.subplots(nrows=K, ncols=K, figsize=(15, 10))\n",
    "for I in range(0,K):\n",
    "    for J in range(0,K):\n",
    "        C=data[:,I]\n",
    "        B=data[:,J]\n",
    "        if I==J:\n",
    "            axes[I, J].boxplot(C)\n",
    "            axes[I, J].set_xlabel(columns[I], fontsize=10)\n",
    "            axes[I, J].set_ylabel(columns[J], fontsize=10)\n",
    "        else:\n",
    "            axes[I, J].scatter(C, B)\n",
    "            axes[I, J].set_xlabel(columns[I], fontsize=10)\n",
    "            axes[I, J].set_ylabel(columns[J], fontsize=10)\n",
    "plt.show()"
   ]
  },
  {
   "cell_type": "markdown",
   "metadata": {},
   "source": [
    "#### From the plotted graphs we can see that the size and number of bedroom are not in same range therfore we normalize the data before running the model"
   ]
  },
  {
   "cell_type": "code",
   "execution_count": 16,
   "metadata": {},
   "outputs": [],
   "source": [
    "def normalization(X):\n",
    "    mu = np.mean(X, axis=0)\n",
    "    sigma = np.std(X, axis=0, ddof=1)\n",
    "    X_norm = (X - mu) / sigma\n",
    "    return X_norm,mu,sigma"
   ]
  },
  {
   "cell_type": "code",
   "execution_count": 17,
   "metadata": {},
   "outputs": [
    {
     "name": "stdout",
     "output_type": "stream",
     "text": [
      "Normalized input data:\n",
      " [[ 0.13000987 -0.22367519]\n",
      " [-0.50418984 -0.22367519]\n",
      " [ 0.50247636 -0.22367519]\n",
      " [-0.73572306 -1.53776691]\n",
      " [ 1.25747602  1.09041654]]\n"
     ]
    }
   ],
   "source": [
    "X_norm,mu,sigma=normalization(X_train)\n",
    "print(\"Normalized input data:\\n\",X_norm[:5,:])"
   ]
  },
  {
   "cell_type": "code",
   "execution_count": 18,
   "metadata": {},
   "outputs": [],
   "source": [
    "def initial_parameters_normal(data):\n",
    "    X_norm,mu,sigma=normalization(data[:,:-1])\n",
    "    X=np.c_[np.ones(data.shape[0]),X_norm]\n",
    "    Y=np.c_[data[:,-1]]\n",
    "    weights=np.zeros((X.shape[1],1))\n",
    "    return X,Y,weights"
   ]
  },
  {
   "cell_type": "markdown",
   "metadata": {},
   "source": [
    "### Training our model with the data to get parameters "
   ]
  },
  {
   "cell_type": "code",
   "execution_count": 19,
   "metadata": {},
   "outputs": [],
   "source": [
    "X,Y,weight=initial_parameters_normal(data)\n",
    "parameters,loss_function_1=linear_regression_model(X,Y,weight,0.01,1500)"
   ]
  },
  {
   "cell_type": "code",
   "execution_count": 20,
   "metadata": {},
   "outputs": [
    {
     "name": "stdout",
     "output_type": "stream",
     "text": [
      "[[340412.56301439]\n",
      " [110540.56654627]\n",
      " [ -6558.99054811]]\n"
     ]
    }
   ],
   "source": [
    "print(parameters)"
   ]
  },
  {
   "cell_type": "code",
   "execution_count": null,
   "metadata": {},
   "outputs": [],
   "source": []
  },
  {
   "cell_type": "code",
   "execution_count": 21,
   "metadata": {
    "scrolled": true
   },
   "outputs": [
    {
     "name": "stdout",
     "output_type": "stream",
     "text": [
      "Accuracy of the model: 0.7329450180289141\n",
      "parameters obtained from the model skleran:\n",
      " [89597.90954279748, 139.21067401762554, -8738.019112327831]\n"
     ]
    }
   ],
   "source": [
    "from sklearn.linear_model import LinearRegression\n",
    "model_multi_LR = LinearRegression()\n",
    "model_multi_LR.fit(X_train, Y_train)\n",
    "print(\"Accuracy of the model:\", model_multi_LR.score(X_train, Y_train))\n",
    "\n",
    "model_para_multi=[]\n",
    "model_para_multi.append(model_multi_LR.intercept_)\n",
    "temp=(model_multi_LR.coef_).ravel()\n",
    "model_para_multi.append(temp[0])\n",
    "model_para_multi.append(temp[1])\n",
    "print(\"parameters obtained from the model skleran:\\n\",model_para_multi)\n"
   ]
  },
  {
   "cell_type": "code",
   "execution_count": 22,
   "metadata": {},
   "outputs": [],
   "source": [
    "def normal_equation(X,Y):\n",
    "    '''\n",
    "    Analytcal method to predict weight for linear regression model\n",
    "    ((X.T*X)^-1*X.T)\n",
    "    '''\n",
    "    weights = np.linalg.pinv(X.T.dot(X)).dot(X.T).dot(Y)\n",
    "    return weights"
   ]
  },
  {
   "cell_type": "code",
   "execution_count": 23,
   "metadata": {},
   "outputs": [
    {
     "name": "stdout",
     "output_type": "stream",
     "text": [
      "[89597.90954361   139.21067402 -8738.01911255]\n"
     ]
    }
   ],
   "source": [
    "X_train=data[:,:-1]\n",
    "Y_train=data[:,-1]\n",
    "X_train=np.c_[np.ones(data.shape[0]),X_train]\n",
    "analytical_para=normal_equation(X_train,Y_train)\n",
    "print(analytical_para)"
   ]
  },
  {
   "cell_type": "markdown",
   "metadata": {},
   "source": [
    "### prediction of the values using my model and normal equations"
   ]
  },
  {
   "cell_type": "code",
   "execution_count": 24,
   "metadata": {},
   "outputs": [],
   "source": [
    "X_predict=[100,2]\n",
    "##Normalizing input data\n",
    "X_pr_norm=X_predict-mu.T/sigma.T\n",
    "X=np.append(1,X_pr_norm)"
   ]
  },
  {
   "cell_type": "code",
   "execution_count": 25,
   "metadata": {},
   "outputs": [
    {
     "name": "stdout",
     "output_type": "stream",
     "text": [
      "[11130387.33062586]\n"
     ]
    }
   ],
   "source": [
    "price=np.dot(X,parameters)\n",
    "print(price)"
   ]
  },
  {
   "cell_type": "code",
   "execution_count": null,
   "metadata": {},
   "outputs": [],
   "source": []
  }
 ],
 "metadata": {
  "kernelspec": {
   "display_name": "Python 3",
   "language": "python",
   "name": "python3"
  },
  "language_info": {
   "codemirror_mode": {
    "name": "ipython",
    "version": 3
   },
   "file_extension": ".py",
   "mimetype": "text/x-python",
   "name": "python",
   "nbconvert_exporter": "python",
   "pygments_lexer": "ipython3",
   "version": "3.7.6"
  },
  "metadata": {
   "interpreter": {
    "hash": "fb638d1167cba67cdfb7dc0a9699f856a086081bb29198c415d9c987c4093cba"
   }
  }
 },
 "nbformat": 4,
 "nbformat_minor": 4
}
