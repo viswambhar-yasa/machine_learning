{
 "cells": [
  {
   "cell_type": "markdown",
   "metadata": {},
   "source": [
    "## LINEAR REGRESSION"
   ]
  },
  {
   "cell_type": "code",
   "execution_count": 1,
   "metadata": {},
   "outputs": [],
   "source": [
    "import numpy as np\n",
    "import matplotlib.pyplot as plt"
   ]
  },
  {
   "cell_type": "markdown",
   "metadata": {},
   "source": [
    "#### Importing data from text file\n",
    "The dataset conatins population of the city and profits from food trucks"
   ]
  },
  {
   "cell_type": "code",
   "execution_count": 2,
   "metadata": {},
   "outputs": [
    {
     "name": "stdout",
     "output_type": "stream",
     "text": [
      "dataset= [[ 6.1101 17.592 ]\n",
      " [ 5.5277  9.1302]\n",
      " [ 8.5186 13.662 ]\n",
      " [ 7.0032 11.854 ]\n",
      " [ 5.8598  6.8233]]\n",
      "population = [[6.1101]\n",
      " [5.5277]\n",
      " [8.5186]\n",
      " [7.0032]\n",
      " [5.8598]]\n",
      "profits = [[17.592 ]\n",
      " [ 9.1302]\n",
      " [13.662 ]\n",
      " [11.854 ]\n",
      " [ 6.8233]]\n"
     ]
    }
   ],
   "source": [
    "filename = 'food_truck_data.txt'\n",
    "data = np.loadtxt(filename, delimiter=',', dtype=float)\n",
    "# storing data in row based arrays\n",
    "population=np.c_[data[:,0]]\n",
    "profits=np.c_[data[:,1]]\n",
    "print(\"dataset=\",data[:5,:])\n",
    "print(\"population =\",population[:5,:])\n",
    "print(\"profits =\",profits[:5,:])"
   ]
  },
  {
   "cell_type": "markdown",
   "metadata": {},
   "source": [
    "#### plotting population vs profits "
   ]
  },
  {
   "cell_type": "code",
   "execution_count": 3,
   "metadata": {},
   "outputs": [
    {
     "data": {
      "text/plain": [
       "Text(0.5, 1.0, 'Population vs revenues ')"
      ]
     },
     "execution_count": 3,
     "metadata": {},
     "output_type": "execute_result"
    },
    {
     "data": {
      "image/png": "[encoded data removed]",
      "text/plain": [
       "<Figure size 432x288 with 1 Axes>"
      ]
     },
     "metadata": {
      "needs_background": "light"
     },
     "output_type": "display_data"
    }
   ],
   "source": [
    "plt.scatter(population,profits,marker='o',color='g')\n",
    "plt.xlabel('population of the city (10,000)')\n",
    "plt.ylabel('profits (10,000)')\n",
    "plt.title('Population vs revenues ')"
   ]
  },
  {
   "cell_type": "markdown",
   "metadata": {},
   "source": [
    "### Analysis of the scatter plot\n",
    "The revenue increases with respect to the population of the city, but we can also find for some city with less population. The revenue is less than zero indicating that it is facing losses."
   ]
  },
  {
   "cell_type": "markdown",
   "metadata": {},
   "source": [
    "### Performing linear regression on this model \n",
    "\n",
    "To build linear regression model, we need to build cost function which calcualtes the mean squared error of the hypothesis"
   ]
  },
  {
   "cell_type": "code",
   "execution_count": 4,
   "metadata": {},
   "outputs": [],
   "source": [
    "def cost_function(X,Y,weights):\n",
    "    '''\n",
    "    X= feature of the model size (n+1,m) n=no of feature m=no of training examples\n",
    "    Y= actual value of the model\n",
    "    parameters= weight functions \n",
    "                2 for linear [w0,w1]\n",
    "    '''\n",
    "    m=Y.shape[0] # Number of training examples\n",
    "    #print(m)\n",
    "    hypothesis=np.dot(X,weights)\n",
    "    J=np.sum((hypothesis-Y)**2)/(2*m)\n",
    "    return J\n"
   ]
  },
  {
   "cell_type": "code",
   "execution_count": null,
   "metadata": {},
   "outputs": [],
   "source": []
  },
  {
   "cell_type": "code",
   "execution_count": 5,
   "metadata": {},
   "outputs": [],
   "source": [
    "def gradient_descent(X,Y,weights,learning_rate,num_iteration=250):\n",
    "    m=X.shape[0] # number of training sets\n",
    "    n=X.shape[1]\n",
    "    J_history=[]\n",
    "    dweight=np.zeros((n,1))\n",
    "    for i in range(0,num_iteration):\n",
    "        hypothesis=np.dot(X,weights)\n",
    "        #print(hypothesis)\n",
    "        dweights=np.dot(X.T,(hypothesis-Y))/m\n",
    "        weights= weights-learning_rate*dweights\n",
    "        J_history.append(cost_function(X,Y,weights))\n",
    "    return weights,J_history"
   ]
  },
  {
   "cell_type": "code",
   "execution_count": 6,
   "metadata": {},
   "outputs": [],
   "source": [
    "def linear_regression_model(train_data,initial_weights=[[0] ,[0]],learning_rate=0.01,num_iteration=2500):\n",
    "    X=np.c_[np.ones(data.shape[0]),data[:,0]]\n",
    "    Y=np.c_[data[:,1]]\n",
    "    final_weights,cost_history=gradient_descent(X,Y,initial_weights,learning_rate,num_iteration)\n",
    "    return final_weights,cost_history"
   ]
  },
  {
   "cell_type": "code",
   "execution_count": 7,
   "metadata": {},
   "outputs": [],
   "source": [
    "parameters,loss_function=linear_regression_model(data)"
   ]
  },
  {
   "cell_type": "code",
   "execution_count": 8,
   "metadata": {},
   "outputs": [
    {
     "data": {
      "text/plain": [
       "Text(0.5, 1.0, 'MINIMIZATION OF COST FUNCTION ')"
      ]
     },
     "execution_count": 8,
     "metadata": {},
     "output_type": "execute_result"
    },
    {
     "data": {
      "image/png": "[encoded data removed]",
      "text/plain": [
       "<Figure size 432x288 with 1 Axes>"
      ]
     },
     "metadata": {
      "needs_background": "light"
     },
     "output_type": "display_data"
    }
   ],
   "source": [
    "plt.plot(np.arange(0,len(loss_function)),loss_function)\n",
    "plt.xlabel('Number of iteration N')\n",
    "plt.ylabel('Cost function J')\n",
    "plt.title(\"MINIMIZATION OF COST FUNCTION \")"
   ]
  },
  {
   "cell_type": "code",
   "execution_count": 9,
   "metadata": {},
   "outputs": [
    {
     "name": "stdout",
     "output_type": "stream",
     "text": [
      "Weight for following model= [[-3.85208068]\n",
      " [ 1.18864349]]\n"
     ]
    }
   ],
   "source": [
    "print(\"Weight for following model=\",parameters)"
   ]
  },
  {
   "cell_type": "markdown",
   "metadata": {},
   "source": [
    "### Comparing my model with standard model from sklearn linear regression"
   ]
  },
  {
   "cell_type": "code",
   "execution_count": 10,
   "metadata": {},
   "outputs": [
    {
     "name": "stdout",
     "output_type": "stream",
     "text": [
      "Accuracy of the model: 0.7020315537841397\n",
      "parameters from model [-3.89578088  1.19303364]\n",
      "The difference in weight for skleran model and my implementation [-0.0437002   0.00439016]\n"
     ]
    }
   ],
   "source": [
    "from sklearn.linear_model import LinearRegression\n",
    "model_LR = LinearRegression()\n",
    "model_LR.fit(population, profits)\n",
    "print(\"Accuracy of the model:\", model_LR.score(population, profits))\n",
    "model_parameters=[]\n",
    "model_parameters.append(model_LR.intercept_[0])\n",
    "model_parameters.append(model_LR.coef_[0,0])\n",
    "print(\"parameters from model\",np.array(model_parameters).T)\n",
    "print(\"The difference in weight for skleran model and my implementation\",(model_parameters-parameters.ravel()))"
   ]
  },
  {
   "cell_type": "markdown",
   "metadata": {},
   "source": [
    "#### prediction of new revenue for given population"
   ]
  },
  {
   "cell_type": "code",
   "execution_count": 11,
   "metadata": {},
   "outputs": [
    {
     "name": "stdout",
     "output_type": "stream",
     "text": [
      "predicting values using my implementation\n",
      "The revenue of the city with population 100 K is  [80343.54172617]\n",
      "predicting values using my sklearn linear regression model\n",
      "The revenue of the city with population 100 K is  80345.55563584085\n",
      "difference: [0.00020139]\n"
     ]
    }
   ],
   "source": [
    "\n",
    "predict1=[1,10]\n",
    "revenue=np.dot(predict1,parameters)\n",
    "print('predicting values using my implementation')\n",
    "print('The revenue of the city with population 100 K is ',revenue*10000)\n",
    "model_revenue=np.dot(predict1,model_parameters)\n",
    "print('predicting values using my sklearn linear regression model')\n",
    "print('The revenue of the city with population 100 K is ',model_revenue*10000)\n",
    "print(\"difference:\",model_revenue-revenue)"
   ]
  },
  {
   "cell_type": "markdown",
   "metadata": {},
   "source": [
    "### plotting linear regression "
   ]
  },
  {
   "cell_type": "code",
   "execution_count": 12,
   "metadata": {},
   "outputs": [
    {
     "data": {
      "text/plain": [
       "Text(0.5, 1.0, 'Comparition of models')"
      ]
     },
     "execution_count": 12,
     "metadata": {},
     "output_type": "execute_result"
    },
    {
     "data": {
      "image/png": "[encoded data removed]",
      "text/plain": [
       "<Figure size 432x288 with 1 Axes>"
      ]
     },
     "metadata": {
      "needs_background": "light"
     },
     "output_type": "display_data"
    }
   ],
   "source": [
    "\n",
    "X_inputs=np.arange(3,25)\n",
    "Y=parameters[0]+parameters[1]*X_inputs\n",
    "Y_model=model_parameters[0]+model_parameters[1]*X_inputs\n",
    "plt.scatter(population,profits,marker='o',color='g')\n",
    "plt.plot(X_inputs,Y,label='LR model')\n",
    "plt.plot(X_inputs,Y_model,label='sklearn LR')\n",
    "plt.xlabel('population of the city (10,000)')\n",
    "plt.ylabel('profits (10,000)')\n",
    "plt.legend()\n",
    "plt.title('Comparition of models')"
   ]
  },
  {
   "cell_type": "code",
   "execution_count": null,
   "metadata": {},
   "outputs": [],
   "source": []
  }
 ],
 "metadata": {
  "kernelspec": {
   "display_name": "Python 3",
   "language": "python",
   "name": "python3"
  },
  "language_info": {
   "codemirror_mode": {
    "name": "ipython",
    "version": 3
   },
   "file_extension": ".py",
   "mimetype": "text/x-python",
   "name": "python",
   "nbconvert_exporter": "python",
   "pygments_lexer": "ipython3",
   "version": "3.7.6"
  },
  "metadata": {
   "interpreter": {
    "hash": "fb638d1167cba67cdfb7dc0a9699f856a086081bb29198c415d9c987c4093cba"
   }
  }
 },
 "nbformat": 4,
 "nbformat_minor": 4
}
