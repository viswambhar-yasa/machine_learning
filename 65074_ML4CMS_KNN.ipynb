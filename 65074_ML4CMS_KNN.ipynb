{
  "nbformat": 4,
  "nbformat_minor": 0,
  "metadata": {
    "kernelspec": {
      "display_name": "Python 3",
      "language": "python",
      "name": "python3"
    },
    "language_info": {
      "codemirror_mode": {
        "name": "ipython",
        "version": 3
      },
      "file_extension": ".py",
      "mimetype": "text/x-python",
      "name": "python",
      "nbconvert_exporter": "python",
      "pygments_lexer": "ipython3",
      "version": "3.7.6"
    },
    "colab": {
      "name": "65074_ML4CMS_KNN.ipynb",
      "provenance": []
    }
  },
  "cells": [
    {
      "cell_type": "code",
      "metadata": {
        "id": "HEIJVOPCaGlX"
      },
      "source": [
        "import numpy as np\n",
        "import matplotlib.pyplot as plt\n",
        "import random "
      ],
      "execution_count": 1,
      "outputs": []
    },
    {
      "cell_type": "code",
      "metadata": {
        "id": "1Xe-qvkPaGlZ"
      },
      "source": [
        "minhp = 100 # minimum horse power\n",
        "maxhp = 600 # maximum horse power\n",
        "lowestpr = 5 # lowest price\n",
        "highestpr = 50 # highest price\n",
        "\n",
        "fprice_low = 20 # lowest price family car\n",
        "fprice_high = 40 # highest price family car\n",
        "fpower_low = 300 # lowest horse power family car\n",
        "fpower_high = 500 # highest horse power family car\n",
        "\n",
        "family_car = [[random.uniform(fprice_low,fprice_high),random.uniform(fpower_low,fpower_high),1] for i in range(100)]\n"
      ],
      "execution_count": 2,
      "outputs": []
    },
    {
      "cell_type": "code",
      "metadata": {
        "id": "cMrWZnfTaGla",
        "outputId": "c9d3ddfb-d698-4532-e439-956cce43d1fa",
        "colab": {
          "base_uri": "https://localhost:8080/"
        }
      },
      "source": [
        "other_car = []\n",
        "for i in range(100):\n",
        "    price = random.uniform(lowestpr,highestpr)\n",
        "    horse_power = random.uniform(minhp,maxhp)\n",
        "    while price>fprice_low and price<fprice_high and horse_power > fpower_low and horse_power < fpower_high:\n",
        "        price = random.uniform(lowestpr, highestpr)\n",
        "        horse_power = random.uniform(minhp,maxhp)\n",
        "    other_car.append([price,horse_power,0]) \n",
        "print(len(other_car))"
      ],
      "execution_count": 3,
      "outputs": [
        {
          "output_type": "stream",
          "text": [
            "100\n"
          ],
          "name": "stdout"
        }
      ]
    },
    {
      "cell_type": "code",
      "metadata": {
        "id": "w4YwsMu5aGlb",
        "outputId": "9a01b7e9-59d2-4dd7-e83e-01e6d5dae2ef",
        "colab": {
          "base_uri": "https://localhost:8080/",
          "height": 297
        }
      },
      "source": [
        "dataset = family_car+other_car\n",
        "dataset = np.array(dataset)\n",
        "fig,ax = plt.subplots()\n",
        "family_car = np.array(family_car)\n",
        "other_car = np.array(other_car)\n",
        "ax.plot(family_car[:,0],family_car[:,1],'+',color = 'red',label= 'family car')\n",
        "ax.plot(other_car[:,0],other_car[:,1],'o',color = 'blue',label= 'other car')\n",
        "ax.set_xlabel('price')\n",
        "ax.set_ylabel('horse power')\n",
        "ax.legend()\n"
      ],
      "execution_count": 4,
      "outputs": [
        {
          "output_type": "execute_result",
          "data": {
            "text/plain": [
              "<matplotlib.legend.Legend at 0x7f070a83d990>"
            ]
          },
          "metadata": {
            "tags": []
          },
          "execution_count": 4
        },
        {
          "output_type": "display_data",
          "data": {
            "image/png": "[encoded data removed]",
            "text/plain": [
              "<Figure size 432x288 with 1 Axes>"
            ]
          },
          "metadata": {
            "tags": [],
            "needs_background": "light"
          }
        }
      ]
    },
    {
      "cell_type": "code",
      "metadata": {
        "id": "k9g3WgvAaGlb",
        "outputId": "229901e3-5ff9-4734-d4a0-6e016025ab1b",
        "colab": {
          "base_uri": "https://localhost:8080/",
          "height": 390
        }
      },
      "source": [
        "n=np.array(range(200))\n",
        "np.random.shuffle(n)\n",
        "mask_training=n[:120]\n",
        "training_data=dataset[mask_training,:]\n",
        "print(mask_training)\n",
        "mask_test=n[120:]\n",
        "test_data=dataset[mask_test,:]\n",
        "\n",
        "fig, ax=plt.subplots(2)\n",
        "for x,y,z in training_data:\n",
        "    ax[0].plot(x,y,'+',color=f'C{int(z)}',label='training data')\n",
        "\n",
        "for x,y,z in training_data:\n",
        "    ax[1].plot(x,y,'+',color=f'C{int(z)}',label='test data')"
      ],
      "execution_count": 5,
      "outputs": [
        {
          "output_type": "stream",
          "text": [
            "[138 106 136 103  44  20 112 188  79  99  57  49   2  56 165 177 183  37\n",
            " 115  95 186 149 146 157  47 130 199 153 124   0  60 144  61  10  18 116\n",
            "  26  54 189 141  25 174  38 133  48  23 166  24 195  43  53   9 142   4\n",
            " 148  41  64 109 158  93  86 161 179 102  90 139  33 191 192 120 194  76\n",
            " 180  96 128 160  16  27 154 125 101 127  32  77 123 121 122 131 105 132\n",
            " 143   3   5  78  63 137  35  71 140  81  68 104 184  55  58  74  39  34\n",
            " 155  97   8 114 162  31 182  59  12  40 176  66]\n"
          ],
          "name": "stdout"
        },
        {
          "output_type": "display_data",
          "data": {
            "image/png": "[encoded data removed]",
            "text/plain": [
              "<Figure size 432x288 with 2 Axes>"
            ]
          },
          "metadata": {
            "tags": [],
            "needs_background": "light"
          }
        }
      ]
    },
    {
      "cell_type": "code",
      "metadata": {
        "id": "dI6OS25CaGlc"
      },
      "source": [
        "def error_function(data,p1,p2,e1,e2):\n",
        "    error=0\n",
        "    for i in data:\n",
        "        price=i[0]\n",
        "        horsepower=i[1]\n",
        "        label=i[2]\n",
        "        if (price>p1 and price >p2 and horsepower>e1 and horsepower>e2):\n",
        "            if label!=1:\n",
        "                error+=1\n",
        "        else:\n",
        "            if label!=0:\n",
        "                error+=1\n",
        "    return error"
      ],
      "execution_count": 6,
      "outputs": []
    },
    {
      "cell_type": "code",
      "metadata": {
        "id": "24i29-R9aGlc",
        "outputId": "964bfc9d-0c1f-4030-8c71-d46744bd6e4d",
        "colab": {
          "base_uri": "https://localhost:8080/"
        }
      },
      "source": [
        "e=error_function(training_data,30,40,300,500)\n",
        "e"
      ],
      "execution_count": 7,
      "outputs": [
        {
          "output_type": "execute_result",
          "data": {
            "text/plain": [
              "63"
            ]
          },
          "metadata": {
            "tags": []
          },
          "execution_count": 7
        }
      ]
    },
    {
      "cell_type": "code",
      "metadata": {
        "scrolled": true,
        "id": "KLDiMTF1aGlc",
        "outputId": "f1522128-908f-48c9-bcfa-ffa2006efed8",
        "colab": {
          "base_uri": "https://localhost:8080/",
          "height": 265
        }
      },
      "source": [
        "fig, ax=plt.subplots()\n",
        "for x,y,z in training_data:\n",
        "    ax.plot(x,y,'+',color=f'C{int(z)}',label='training data')\n",
        "    ax.hlines(300,20,40,linestyles='dashed')\n",
        "    ax.hlines(500,20,40,linestyles='dashed')\n",
        "    ax.vlines(20,300,500,linestyles='dashed')\n",
        "    ax.vlines(40,300,500,linestyles='dashed')"
      ],
      "execution_count": 8,
      "outputs": [
        {
          "output_type": "display_data",
          "data": {
            "image/png": "[encoded data removed]",
            "text/plain": [
              "<Figure size 432x288 with 1 Axes>"
            ]
          },
          "metadata": {
            "tags": [],
            "needs_background": "light"
          }
        }
      ]
    },
    {
      "cell_type": "code",
      "metadata": {
        "id": "lXp5nHqLaGld"
      },
      "source": [
        "errors=[]\n",
        "values=[]\n",
        "p1_range=list(range(15,25,1))\n",
        "p2_range=list(range(35,45,1))\n",
        "e1_range=list(range(280,320,10))\n",
        "e2_range=list(range(480,520,10))\n",
        "\n",
        "for p1 in p1_range:\n",
        "    for p2 in p2_range:\n",
        "        for e1 in e1_range:\n",
        "            for e2 in e2_range:\n",
        "                error=error_function(training_data,p1,p2,e1,e2)\n",
        "                errors.append(error)\n",
        "                values.append([p1,p2,e1,e2])\n",
        "                "
      ],
      "execution_count": 9,
      "outputs": []
    },
    {
      "cell_type": "code",
      "metadata": {
        "id": "LQUi3-R1aGle"
      },
      "source": [
        "def locate_min(a):\n",
        "    smallest=min(a)\n",
        "    return smallest, [index for index, element in enumerate(a) if smallest== element]\n"
      ],
      "execution_count": 10,
      "outputs": []
    },
    {
      "cell_type": "code",
      "metadata": {
        "id": "Crws8vACaGle",
        "outputId": "bd92384b-8904-47ff-8d52-505eb1a8c54a",
        "colab": {
          "base_uri": "https://localhost:8080/"
        }
      },
      "source": [
        "minimum_value,index=locate_min(errors)\n",
        "print(minimum_value)\n",
        "print(index)"
      ],
      "execution_count": 11,
      "outputs": [
        {
          "output_type": "stream",
          "text": [
            "59\n",
            "[131, 135, 139, 143, 147, 151, 155, 159, 291, 295, 299, 303, 307, 311, 315, 319, 451, 455, 459, 463, 467, 471, 475, 479, 611, 615, 619, 623, 627, 631, 635, 639, 771, 775, 779, 783, 787, 791, 795, 799, 931, 935, 939, 943, 947, 951, 955, 959, 1091, 1095, 1099, 1103, 1107, 1111, 1115, 1119, 1251, 1255, 1259, 1263, 1267, 1271, 1275, 1279, 1411, 1415, 1419, 1423, 1427, 1431, 1435, 1439, 1571, 1575, 1579, 1583, 1587, 1591, 1595, 1599]\n"
          ],
          "name": "stdout"
        }
      ]
    },
    {
      "cell_type": "code",
      "metadata": {
        "id": "ycRjpuYqaGlf",
        "outputId": "216050fd-389e-4ac4-b888-18012671ee46",
        "colab": {
          "base_uri": "https://localhost:8080/",
          "height": 265
        }
      },
      "source": [
        "fig, ax=plt.subplots()\n",
        "for x,y,z in training_data:\n",
        "    ax.plot(x,y,'+',color=f'C{int(z)}',label='training data')\n",
        "for i,ix in enumerate(index):\n",
        "    c=f'C{i}'\n",
        "    p1,p2,e1,e2=values[ix]\n",
        "    ax.hlines(e1,0,50,linestyles='dashed',color=c)\n",
        "    ax.hlines(e2,0,50,linestyles='dashed',color=c)\n",
        "    ax.vlines(p1,100,600,linestyles='dashed',color=c)\n",
        "    ax.vlines(p2,100,600,linestyles='dashed',color=c)"
      ],
      "execution_count": 12,
      "outputs": [
        {
          "output_type": "display_data",
          "data": {
            "image/png": "[encoded data removed]",
            "text/plain": [
              "<Figure size 432x288 with 1 Axes>"
            ]
          },
          "metadata": {
            "tags": [],
            "needs_background": "light"
          }
        }
      ]
    },
    {
      "cell_type": "code",
      "metadata": {
        "id": "GbOQ64UMaGlf",
        "outputId": "e989d018-3bf7-45fb-a884-c7e5a12377c2",
        "colab": {
          "base_uri": "https://localhost:8080/"
        }
      },
      "source": [
        "for i,ix in enumerate(index):\n",
        "    p1,p2,e1,e2=values[ix]\n",
        "    print(error_function(test_data,p1,p2,e1,e2))"
      ],
      "execution_count": 13,
      "outputs": [
        {
          "output_type": "stream",
          "text": [
            "42\n",
            "42\n",
            "42\n",
            "42\n",
            "42\n",
            "42\n",
            "42\n",
            "42\n",
            "42\n",
            "42\n",
            "42\n",
            "42\n",
            "42\n",
            "42\n",
            "42\n",
            "42\n",
            "42\n",
            "42\n",
            "42\n",
            "42\n",
            "42\n",
            "42\n",
            "42\n",
            "42\n",
            "42\n",
            "42\n",
            "42\n",
            "42\n",
            "42\n",
            "42\n",
            "42\n",
            "42\n",
            "42\n",
            "42\n",
            "42\n",
            "42\n",
            "42\n",
            "42\n",
            "42\n",
            "42\n",
            "42\n",
            "42\n",
            "42\n",
            "42\n",
            "42\n",
            "42\n",
            "42\n",
            "42\n",
            "42\n",
            "42\n",
            "42\n",
            "42\n",
            "42\n",
            "42\n",
            "42\n",
            "42\n",
            "42\n",
            "42\n",
            "42\n",
            "42\n",
            "42\n",
            "42\n",
            "42\n",
            "42\n",
            "42\n",
            "42\n",
            "42\n",
            "42\n",
            "42\n",
            "42\n",
            "42\n",
            "42\n",
            "42\n",
            "42\n",
            "42\n",
            "42\n",
            "42\n",
            "42\n",
            "42\n",
            "42\n"
          ],
          "name": "stdout"
        }
      ]
    },
    {
      "cell_type": "code",
      "metadata": {
        "id": "rmjYwAzLaGlf"
      },
      "source": [
        ""
      ],
      "execution_count": 13,
      "outputs": []
    }
  ]
}